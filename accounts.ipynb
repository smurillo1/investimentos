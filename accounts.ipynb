{
 "cells": [
  {
   "cell_type": "code",
   "execution_count": 1,
   "metadata": {},
   "outputs": [],
   "source": [
    "import pandas as pd\n",
    "import matplotlib.pyplot as plt\n",
    "import seaborn as sns"
   ]
  },
  {
   "cell_type": "code",
   "execution_count": 2,
   "metadata": {},
   "outputs": [],
   "source": [
    "accounts = pd.read_csv(r\"C:\\Users\\Sávio\\Desktop\\estudos_prog\\investimentos\\accounts.csv\")"
   ]
  },
  {
   "cell_type": "code",
   "execution_count": 3,
   "metadata": {},
   "outputs": [
    {
     "data": {
      "text/html": [
       "<div>\n",
       "<style scoped>\n",
       "    .dataframe tbody tr th:only-of-type {\n",
       "        vertical-align: middle;\n",
       "    }\n",
       "\n",
       "    .dataframe tbody tr th {\n",
       "        vertical-align: top;\n",
       "    }\n",
       "\n",
       "    .dataframe thead th {\n",
       "        text-align: right;\n",
       "    }\n",
       "</style>\n",
       "<table border=\"1\" class=\"dataframe\">\n",
       "  <thead>\n",
       "    <tr style=\"text-align: right;\">\n",
       "      <th></th>\n",
       "      <th>id</th>\n",
       "      <th>type</th>\n",
       "      <th>subtype</th>\n",
       "      <th>balance</th>\n",
       "      <th>currency_code</th>\n",
       "      <th>name</th>\n",
       "      <th>person_id</th>\n",
       "      <th>account_id</th>\n",
       "      <th>date</th>\n",
       "    </tr>\n",
       "  </thead>\n",
       "  <tbody>\n",
       "    <tr>\n",
       "      <th>0</th>\n",
       "      <td>1968bd13-dd25-4f88-bccc-5cff92d6811b</td>\n",
       "      <td>BANK</td>\n",
       "      <td>SAVINGS_ACCOUNT</td>\n",
       "      <td>3826.72</td>\n",
       "      <td>BRL</td>\n",
       "      <td>Caixinha</td>\n",
       "      <td>644f5d18-5bfa-45f9-8aa7-401c05b3b9f2</td>\n",
       "      <td>1968bd13-dd25-4f88-bccc-5cff92d6811b</td>\n",
       "      <td>2023-09-14 14:03:16</td>\n",
       "    </tr>\n",
       "    <tr>\n",
       "      <th>1</th>\n",
       "      <td>978f92cf-8d5b-437a-a046-cdaa9105624c</td>\n",
       "      <td>CREDIT</td>\n",
       "      <td>CREDIT_CARD</td>\n",
       "      <td>6311.67</td>\n",
       "      <td>BRL</td>\n",
       "      <td>Cartão de Crédito</td>\n",
       "      <td>644f5d18-5bfa-45f9-8aa7-401c05b3b9f2</td>\n",
       "      <td>978f92cf-8d5b-437a-a046-cdaa9105624c</td>\n",
       "      <td>2023-09-15 15:50:21</td>\n",
       "    </tr>\n",
       "    <tr>\n",
       "      <th>2</th>\n",
       "      <td>dcd96f70-8b16-42b0-a944-afec5d8305ce</td>\n",
       "      <td>CREDIT</td>\n",
       "      <td>CREDIT_CARD</td>\n",
       "      <td>7482.25</td>\n",
       "      <td>BRL</td>\n",
       "      <td>Cartão de Crédito</td>\n",
       "      <td>644f5d18-5bfa-45f9-8aa7-401c05b3b9f2</td>\n",
       "      <td>dcd96f70-8b16-42b0-a944-afec5d8305ce</td>\n",
       "      <td>2023-09-09 03:38:49</td>\n",
       "    </tr>\n",
       "    <tr>\n",
       "      <th>3</th>\n",
       "      <td>6c2a44fe-2ba7-4626-aaff-f244a0647eae</td>\n",
       "      <td>BANK</td>\n",
       "      <td>SAVINGS_ACCOUNT</td>\n",
       "      <td>5740.29</td>\n",
       "      <td>BRL</td>\n",
       "      <td>Caixinha</td>\n",
       "      <td>644f5d18-5bfa-45f9-8aa7-401c05b3b9f2</td>\n",
       "      <td>6c2a44fe-2ba7-4626-aaff-f244a0647eae</td>\n",
       "      <td>2023-09-12 14:21:21</td>\n",
       "    </tr>\n",
       "    <tr>\n",
       "      <th>4</th>\n",
       "      <td>abb359a2-3802-48e7-976b-8671e1de0884</td>\n",
       "      <td>BANK</td>\n",
       "      <td>CHECKING_ACCOUNT</td>\n",
       "      <td>5136.49</td>\n",
       "      <td>BRL</td>\n",
       "      <td>Conta Corrente</td>\n",
       "      <td>644f5d18-5bfa-45f9-8aa7-401c05b3b9f2</td>\n",
       "      <td>abb359a2-3802-48e7-976b-8671e1de0884</td>\n",
       "      <td>2023-09-12 04:10:04</td>\n",
       "    </tr>\n",
       "  </tbody>\n",
       "</table>\n",
       "</div>"
      ],
      "text/plain": [
       "                                     id    type           subtype  balance  \\\n",
       "0  1968bd13-dd25-4f88-bccc-5cff92d6811b    BANK   SAVINGS_ACCOUNT  3826.72   \n",
       "1  978f92cf-8d5b-437a-a046-cdaa9105624c  CREDIT       CREDIT_CARD  6311.67   \n",
       "2  dcd96f70-8b16-42b0-a944-afec5d8305ce  CREDIT       CREDIT_CARD  7482.25   \n",
       "3  6c2a44fe-2ba7-4626-aaff-f244a0647eae    BANK   SAVINGS_ACCOUNT  5740.29   \n",
       "4  abb359a2-3802-48e7-976b-8671e1de0884    BANK  CHECKING_ACCOUNT  5136.49   \n",
       "\n",
       "  currency_code               name                             person_id  \\\n",
       "0           BRL           Caixinha  644f5d18-5bfa-45f9-8aa7-401c05b3b9f2   \n",
       "1           BRL  Cartão de Crédito  644f5d18-5bfa-45f9-8aa7-401c05b3b9f2   \n",
       "2           BRL  Cartão de Crédito  644f5d18-5bfa-45f9-8aa7-401c05b3b9f2   \n",
       "3           BRL           Caixinha  644f5d18-5bfa-45f9-8aa7-401c05b3b9f2   \n",
       "4           BRL     Conta Corrente  644f5d18-5bfa-45f9-8aa7-401c05b3b9f2   \n",
       "\n",
       "                             account_id                 date  \n",
       "0  1968bd13-dd25-4f88-bccc-5cff92d6811b  2023-09-14 14:03:16  \n",
       "1  978f92cf-8d5b-437a-a046-cdaa9105624c  2023-09-15 15:50:21  \n",
       "2  dcd96f70-8b16-42b0-a944-afec5d8305ce  2023-09-09 03:38:49  \n",
       "3  6c2a44fe-2ba7-4626-aaff-f244a0647eae  2023-09-12 14:21:21  \n",
       "4  abb359a2-3802-48e7-976b-8671e1de0884  2023-09-12 04:10:04  "
      ]
     },
     "execution_count": 3,
     "metadata": {},
     "output_type": "execute_result"
    }
   ],
   "source": [
    "accounts.head()"
   ]
  },
  {
   "cell_type": "code",
   "execution_count": 15,
   "metadata": {},
   "outputs": [
    {
     "name": "stdout",
     "output_type": "stream",
     "text": [
      "<class 'pandas.core.frame.DataFrame'>\n",
      "RangeIndex: 7569 entries, 0 to 7568\n",
      "Data columns (total 9 columns):\n",
      " #   Column         Non-Null Count  Dtype         \n",
      "---  ------         --------------  -----         \n",
      " 0   id             7569 non-null   object        \n",
      " 1   type           7569 non-null   object        \n",
      " 2   subtype        7569 non-null   object        \n",
      " 3   balance        7569 non-null   float64       \n",
      " 4   currency_code  7569 non-null   object        \n",
      " 5   name           7569 non-null   object        \n",
      " 6   person_id      7569 non-null   object        \n",
      " 7   account_id     7569 non-null   object        \n",
      " 8   date           7569 non-null   datetime64[ns]\n",
      "dtypes: datetime64[ns](1), float64(1), object(7)\n",
      "memory usage: 532.3+ KB\n"
     ]
    }
   ],
   "source": [
    "accounts.info()"
   ]
  },
  {
   "cell_type": "code",
   "execution_count": 14,
   "metadata": {},
   "outputs": [],
   "source": [
    "accounts['date'] = pd.to_datetime(accounts['date'])"
   ]
  },
  {
   "cell_type": "code",
   "execution_count": 16,
   "metadata": {},
   "outputs": [],
   "source": [
    "accounts['month'] = accounts['date'].dt.month\n",
    "\n",
    "accounts['year'] = accounts['date'].dt.year\n",
    "\n",
    "accounts['year_month'] = accounts['date'].dt.to_period('M')"
   ]
  },
  {
   "cell_type": "code",
   "execution_count": 17,
   "metadata": {},
   "outputs": [
    {
     "data": {
      "text/html": [
       "<div>\n",
       "<style scoped>\n",
       "    .dataframe tbody tr th:only-of-type {\n",
       "        vertical-align: middle;\n",
       "    }\n",
       "\n",
       "    .dataframe tbody tr th {\n",
       "        vertical-align: top;\n",
       "    }\n",
       "\n",
       "    .dataframe thead th {\n",
       "        text-align: right;\n",
       "    }\n",
       "</style>\n",
       "<table border=\"1\" class=\"dataframe\">\n",
       "  <thead>\n",
       "    <tr style=\"text-align: right;\">\n",
       "      <th></th>\n",
       "      <th>id</th>\n",
       "      <th>type</th>\n",
       "      <th>subtype</th>\n",
       "      <th>balance</th>\n",
       "      <th>currency_code</th>\n",
       "      <th>name</th>\n",
       "      <th>person_id</th>\n",
       "      <th>account_id</th>\n",
       "      <th>date</th>\n",
       "      <th>month</th>\n",
       "      <th>year</th>\n",
       "      <th>year_month</th>\n",
       "    </tr>\n",
       "  </thead>\n",
       "  <tbody>\n",
       "    <tr>\n",
       "      <th>0</th>\n",
       "      <td>1968bd13-dd25-4f88-bccc-5cff92d6811b</td>\n",
       "      <td>BANK</td>\n",
       "      <td>SAVINGS_ACCOUNT</td>\n",
       "      <td>3826.72</td>\n",
       "      <td>BRL</td>\n",
       "      <td>Caixinha</td>\n",
       "      <td>644f5d18-5bfa-45f9-8aa7-401c05b3b9f2</td>\n",
       "      <td>1968bd13-dd25-4f88-bccc-5cff92d6811b</td>\n",
       "      <td>2023-09-14 14:03:16</td>\n",
       "      <td>9</td>\n",
       "      <td>2023</td>\n",
       "      <td>2023-09</td>\n",
       "    </tr>\n",
       "    <tr>\n",
       "      <th>1</th>\n",
       "      <td>978f92cf-8d5b-437a-a046-cdaa9105624c</td>\n",
       "      <td>CREDIT</td>\n",
       "      <td>CREDIT_CARD</td>\n",
       "      <td>6311.67</td>\n",
       "      <td>BRL</td>\n",
       "      <td>Cartão de Crédito</td>\n",
       "      <td>644f5d18-5bfa-45f9-8aa7-401c05b3b9f2</td>\n",
       "      <td>978f92cf-8d5b-437a-a046-cdaa9105624c</td>\n",
       "      <td>2023-09-15 15:50:21</td>\n",
       "      <td>9</td>\n",
       "      <td>2023</td>\n",
       "      <td>2023-09</td>\n",
       "    </tr>\n",
       "    <tr>\n",
       "      <th>2</th>\n",
       "      <td>dcd96f70-8b16-42b0-a944-afec5d8305ce</td>\n",
       "      <td>CREDIT</td>\n",
       "      <td>CREDIT_CARD</td>\n",
       "      <td>7482.25</td>\n",
       "      <td>BRL</td>\n",
       "      <td>Cartão de Crédito</td>\n",
       "      <td>644f5d18-5bfa-45f9-8aa7-401c05b3b9f2</td>\n",
       "      <td>dcd96f70-8b16-42b0-a944-afec5d8305ce</td>\n",
       "      <td>2023-09-09 03:38:49</td>\n",
       "      <td>9</td>\n",
       "      <td>2023</td>\n",
       "      <td>2023-09</td>\n",
       "    </tr>\n",
       "    <tr>\n",
       "      <th>3</th>\n",
       "      <td>6c2a44fe-2ba7-4626-aaff-f244a0647eae</td>\n",
       "      <td>BANK</td>\n",
       "      <td>SAVINGS_ACCOUNT</td>\n",
       "      <td>5740.29</td>\n",
       "      <td>BRL</td>\n",
       "      <td>Caixinha</td>\n",
       "      <td>644f5d18-5bfa-45f9-8aa7-401c05b3b9f2</td>\n",
       "      <td>6c2a44fe-2ba7-4626-aaff-f244a0647eae</td>\n",
       "      <td>2023-09-12 14:21:21</td>\n",
       "      <td>9</td>\n",
       "      <td>2023</td>\n",
       "      <td>2023-09</td>\n",
       "    </tr>\n",
       "    <tr>\n",
       "      <th>4</th>\n",
       "      <td>abb359a2-3802-48e7-976b-8671e1de0884</td>\n",
       "      <td>BANK</td>\n",
       "      <td>CHECKING_ACCOUNT</td>\n",
       "      <td>5136.49</td>\n",
       "      <td>BRL</td>\n",
       "      <td>Conta Corrente</td>\n",
       "      <td>644f5d18-5bfa-45f9-8aa7-401c05b3b9f2</td>\n",
       "      <td>abb359a2-3802-48e7-976b-8671e1de0884</td>\n",
       "      <td>2023-09-12 04:10:04</td>\n",
       "      <td>9</td>\n",
       "      <td>2023</td>\n",
       "      <td>2023-09</td>\n",
       "    </tr>\n",
       "  </tbody>\n",
       "</table>\n",
       "</div>"
      ],
      "text/plain": [
       "                                     id    type           subtype  balance  \\\n",
       "0  1968bd13-dd25-4f88-bccc-5cff92d6811b    BANK   SAVINGS_ACCOUNT  3826.72   \n",
       "1  978f92cf-8d5b-437a-a046-cdaa9105624c  CREDIT       CREDIT_CARD  6311.67   \n",
       "2  dcd96f70-8b16-42b0-a944-afec5d8305ce  CREDIT       CREDIT_CARD  7482.25   \n",
       "3  6c2a44fe-2ba7-4626-aaff-f244a0647eae    BANK   SAVINGS_ACCOUNT  5740.29   \n",
       "4  abb359a2-3802-48e7-976b-8671e1de0884    BANK  CHECKING_ACCOUNT  5136.49   \n",
       "\n",
       "  currency_code               name                             person_id  \\\n",
       "0           BRL           Caixinha  644f5d18-5bfa-45f9-8aa7-401c05b3b9f2   \n",
       "1           BRL  Cartão de Crédito  644f5d18-5bfa-45f9-8aa7-401c05b3b9f2   \n",
       "2           BRL  Cartão de Crédito  644f5d18-5bfa-45f9-8aa7-401c05b3b9f2   \n",
       "3           BRL           Caixinha  644f5d18-5bfa-45f9-8aa7-401c05b3b9f2   \n",
       "4           BRL     Conta Corrente  644f5d18-5bfa-45f9-8aa7-401c05b3b9f2   \n",
       "\n",
       "                             account_id                date  month  year  \\\n",
       "0  1968bd13-dd25-4f88-bccc-5cff92d6811b 2023-09-14 14:03:16      9  2023   \n",
       "1  978f92cf-8d5b-437a-a046-cdaa9105624c 2023-09-15 15:50:21      9  2023   \n",
       "2  dcd96f70-8b16-42b0-a944-afec5d8305ce 2023-09-09 03:38:49      9  2023   \n",
       "3  6c2a44fe-2ba7-4626-aaff-f244a0647eae 2023-09-12 14:21:21      9  2023   \n",
       "4  abb359a2-3802-48e7-976b-8671e1de0884 2023-09-12 04:10:04      9  2023   \n",
       "\n",
       "  year_month  \n",
       "0    2023-09  \n",
       "1    2023-09  \n",
       "2    2023-09  \n",
       "3    2023-09  \n",
       "4    2023-09  "
      ]
     },
     "execution_count": 17,
     "metadata": {},
     "output_type": "execute_result"
    }
   ],
   "source": [
    "accounts.head()"
   ]
  },
  {
   "cell_type": "code",
   "execution_count": 23,
   "metadata": {},
   "outputs": [
    {
     "data": {
      "text/html": [
       "<div>\n",
       "<style scoped>\n",
       "    .dataframe tbody tr th:only-of-type {\n",
       "        vertical-align: middle;\n",
       "    }\n",
       "\n",
       "    .dataframe tbody tr th {\n",
       "        vertical-align: top;\n",
       "    }\n",
       "\n",
       "    .dataframe thead th {\n",
       "        text-align: right;\n",
       "    }\n",
       "</style>\n",
       "<table border=\"1\" class=\"dataframe\">\n",
       "  <thead>\n",
       "    <tr style=\"text-align: right;\">\n",
       "      <th></th>\n",
       "      <th>balance</th>\n",
       "      <th>date</th>\n",
       "      <th>month</th>\n",
       "      <th>year</th>\n",
       "    </tr>\n",
       "  </thead>\n",
       "  <tbody>\n",
       "    <tr>\n",
       "      <th>count</th>\n",
       "      <td>7569.000000</td>\n",
       "      <td>7569</td>\n",
       "      <td>7569.000000</td>\n",
       "      <td>7569.0</td>\n",
       "    </tr>\n",
       "    <tr>\n",
       "      <th>mean</th>\n",
       "      <td>5717.472539</td>\n",
       "      <td>2023-09-11 23:06:50.790989568</td>\n",
       "      <td>8.940811</td>\n",
       "      <td>2023.0</td>\n",
       "    </tr>\n",
       "    <tr>\n",
       "      <th>min</th>\n",
       "      <td>11.520000</td>\n",
       "      <td>2023-06-20 09:07:52</td>\n",
       "      <td>6.000000</td>\n",
       "      <td>2023.0</td>\n",
       "    </tr>\n",
       "    <tr>\n",
       "      <th>25%</th>\n",
       "      <td>2514.880000</td>\n",
       "      <td>2023-09-12 04:17:13</td>\n",
       "      <td>9.000000</td>\n",
       "      <td>2023.0</td>\n",
       "    </tr>\n",
       "    <tr>\n",
       "      <th>50%</th>\n",
       "      <td>5021.490000</td>\n",
       "      <td>2023-09-14 06:20:04</td>\n",
       "      <td>9.000000</td>\n",
       "      <td>2023.0</td>\n",
       "    </tr>\n",
       "    <tr>\n",
       "      <th>75%</th>\n",
       "      <td>7558.410000</td>\n",
       "      <td>2023-09-15 03:09:40</td>\n",
       "      <td>9.000000</td>\n",
       "      <td>2023.0</td>\n",
       "    </tr>\n",
       "    <tr>\n",
       "      <th>max</th>\n",
       "      <td>44965.250000</td>\n",
       "      <td>2023-09-15 16:27:42</td>\n",
       "      <td>9.000000</td>\n",
       "      <td>2023.0</td>\n",
       "    </tr>\n",
       "    <tr>\n",
       "      <th>std</th>\n",
       "      <td>4825.408916</td>\n",
       "      <td>NaN</td>\n",
       "      <td>0.280978</td>\n",
       "      <td>0.0</td>\n",
       "    </tr>\n",
       "  </tbody>\n",
       "</table>\n",
       "</div>"
      ],
      "text/plain": [
       "            balance                           date        month    year\n",
       "count   7569.000000                           7569  7569.000000  7569.0\n",
       "mean    5717.472539  2023-09-11 23:06:50.790989568     8.940811  2023.0\n",
       "min       11.520000            2023-06-20 09:07:52     6.000000  2023.0\n",
       "25%     2514.880000            2023-09-12 04:17:13     9.000000  2023.0\n",
       "50%     5021.490000            2023-09-14 06:20:04     9.000000  2023.0\n",
       "75%     7558.410000            2023-09-15 03:09:40     9.000000  2023.0\n",
       "max    44965.250000            2023-09-15 16:27:42     9.000000  2023.0\n",
       "std     4825.408916                            NaN     0.280978     0.0"
      ]
     },
     "execution_count": 23,
     "metadata": {},
     "output_type": "execute_result"
    }
   ],
   "source": [
    "accounts.describe()"
   ]
  },
  {
   "cell_type": "code",
   "execution_count": 48,
   "metadata": {},
   "outputs": [
    {
     "data": {
      "text/plain": [
       "currency_code\n",
       "BRL    7569\n",
       "Name: count, dtype: int64"
      ]
     },
     "execution_count": 48,
     "metadata": {},
     "output_type": "execute_result"
    }
   ],
   "source": [
    "accounts['currency_code'].value_counts()"
   ]
  },
  {
   "cell_type": "code",
   "execution_count": 27,
   "metadata": {},
   "outputs": [
    {
     "data": {
      "text/plain": [
       "0"
      ]
     },
     "execution_count": 27,
     "metadata": {},
     "output_type": "execute_result"
    }
   ],
   "source": [
    "accounts.duplicated(subset='id').sum()"
   ]
  },
  {
   "cell_type": "code",
   "execution_count": 19,
   "metadata": {},
   "outputs": [
    {
     "data": {
      "text/plain": [
       "month\n",
       "9    7199\n",
       "8     302\n",
       "7      58\n",
       "6      10\n",
       "Name: count, dtype: int64"
      ]
     },
     "execution_count": 19,
     "metadata": {},
     "output_type": "execute_result"
    }
   ],
   "source": [
    "accounts['month'].value_counts()"
   ]
  },
  {
   "cell_type": "code",
   "execution_count": 32,
   "metadata": {},
   "outputs": [
    {
     "data": {
      "text/html": [
       "<div>\n",
       "<style scoped>\n",
       "    .dataframe tbody tr th:only-of-type {\n",
       "        vertical-align: middle;\n",
       "    }\n",
       "\n",
       "    .dataframe tbody tr th {\n",
       "        vertical-align: top;\n",
       "    }\n",
       "\n",
       "    .dataframe thead th {\n",
       "        text-align: right;\n",
       "    }\n",
       "</style>\n",
       "<table border=\"1\" class=\"dataframe\">\n",
       "  <thead>\n",
       "    <tr style=\"text-align: right;\">\n",
       "      <th>subtype</th>\n",
       "      <th>CHECKING_ACCOUNT</th>\n",
       "      <th>CREDIT_CARD</th>\n",
       "      <th>SAVINGS_ACCOUNT</th>\n",
       "    </tr>\n",
       "    <tr>\n",
       "      <th>month</th>\n",
       "      <th></th>\n",
       "      <th></th>\n",
       "      <th></th>\n",
       "    </tr>\n",
       "  </thead>\n",
       "  <tbody>\n",
       "    <tr>\n",
       "      <th>6</th>\n",
       "      <td>3</td>\n",
       "      <td>2</td>\n",
       "      <td>5</td>\n",
       "    </tr>\n",
       "    <tr>\n",
       "      <th>7</th>\n",
       "      <td>15</td>\n",
       "      <td>23</td>\n",
       "      <td>20</td>\n",
       "    </tr>\n",
       "    <tr>\n",
       "      <th>8</th>\n",
       "      <td>79</td>\n",
       "      <td>107</td>\n",
       "      <td>116</td>\n",
       "    </tr>\n",
       "    <tr>\n",
       "      <th>9</th>\n",
       "      <td>2412</td>\n",
       "      <td>2487</td>\n",
       "      <td>2300</td>\n",
       "    </tr>\n",
       "  </tbody>\n",
       "</table>\n",
       "</div>"
      ],
      "text/plain": [
       "subtype  CHECKING_ACCOUNT  CREDIT_CARD  SAVINGS_ACCOUNT\n",
       "month                                                  \n",
       "6                       3            2                5\n",
       "7                      15           23               20\n",
       "8                      79          107              116\n",
       "9                    2412         2487             2300"
      ]
     },
     "execution_count": 32,
     "metadata": {},
     "output_type": "execute_result"
    }
   ],
   "source": [
    "count_subtype = accounts.groupby(['month', 'subtype']).size().reset_index(name='volume')\n",
    "\n",
    "pivot = count_subtype.pivot(index='month', columns='subtype', values='volume').fillna(0)\n",
    "pivot"
   ]
  },
  {
   "cell_type": "code",
   "execution_count": 45,
   "metadata": {},
   "outputs": [
    {
     "data": {
      "text/html": [
       "<div>\n",
       "<style scoped>\n",
       "    .dataframe tbody tr th:only-of-type {\n",
       "        vertical-align: middle;\n",
       "    }\n",
       "\n",
       "    .dataframe tbody tr th {\n",
       "        vertical-align: top;\n",
       "    }\n",
       "\n",
       "    .dataframe thead th {\n",
       "        text-align: right;\n",
       "    }\n",
       "</style>\n",
       "<table border=\"1\" class=\"dataframe\">\n",
       "  <thead>\n",
       "    <tr style=\"text-align: right;\">\n",
       "      <th>type</th>\n",
       "      <th>BANK</th>\n",
       "      <th>CREDIT</th>\n",
       "    </tr>\n",
       "    <tr>\n",
       "      <th>month</th>\n",
       "      <th></th>\n",
       "      <th></th>\n",
       "    </tr>\n",
       "  </thead>\n",
       "  <tbody>\n",
       "    <tr>\n",
       "      <th>6</th>\n",
       "      <td>8</td>\n",
       "      <td>2</td>\n",
       "    </tr>\n",
       "    <tr>\n",
       "      <th>7</th>\n",
       "      <td>35</td>\n",
       "      <td>23</td>\n",
       "    </tr>\n",
       "    <tr>\n",
       "      <th>8</th>\n",
       "      <td>195</td>\n",
       "      <td>107</td>\n",
       "    </tr>\n",
       "    <tr>\n",
       "      <th>9</th>\n",
       "      <td>4712</td>\n",
       "      <td>2487</td>\n",
       "    </tr>\n",
       "  </tbody>\n",
       "</table>\n",
       "</div>"
      ],
      "text/plain": [
       "type   BANK  CREDIT\n",
       "month              \n",
       "6         8       2\n",
       "7        35      23\n",
       "8       195     107\n",
       "9      4712    2487"
      ]
     },
     "execution_count": 45,
     "metadata": {},
     "output_type": "execute_result"
    }
   ],
   "source": [
    "count_subtype = accounts.groupby(['month', 'type']).size().reset_index(name='volume')\n",
    "pivot2 = count_subtype.pivot(index='month', columns='type', values='volume').fillna(0)\n",
    "pivot2"
   ]
  },
  {
   "cell_type": "code",
   "execution_count": 47,
   "metadata": {},
   "outputs": [
    {
     "data": {
      "text/plain": [
       "Text(0.5, 1.0, 'Contagem por Mês e Subtipo')"
      ]
     },
     "execution_count": 47,
     "metadata": {},
     "output_type": "execute_result"
    },
    {
     "data": {
      "image/png": "[encoded data removed]",
      "text/plain": [
       "<Figure size 1600x600 with 2 Axes>"
      ]
     },
     "metadata": {},
     "output_type": "display_data"
    }
   ],
   "source": [
    "fig, axes = plt.subplots(nrows=1, ncols=2, figsize=(16, 6))\n",
    "\n",
    "sns.countplot(x='type', data=accounts, ax=axes[0])\n",
    "axes[0].set_xlabel('tipo')\n",
    "axes[0].set_ylabel('Contagem')\n",
    "axes[0].set_title('Contagem por tipo')\n",
    "\n",
    "pivot2 = accounts.groupby(['month', 'type']).size().unstack(fill_value=0)\n",
    "pivot2.plot(kind='line', marker='o', ax=axes[1])\n",
    "axes[1].set_xlabel('Mês')\n",
    "axes[1].set_ylabel('Contagem')\n",
    "axes[1].set_title('Contagem por Mês e Subtipo')"
   ]
  },
  {
   "cell_type": "code",
   "execution_count": 43,
   "metadata": {},
   "outputs": [
    {
     "data": {
      "text/plain": [
       "Text(0.5, 1.0, 'Contagem por Mês e Subtipo')"
      ]
     },
     "execution_count": 43,
     "metadata": {},
     "output_type": "execute_result"
    },
    {
     "data": {
      "image/png": "[encoded data removed]",
      "text/plain": [
       "<Figure size 1600x600 with 2 Axes>"
      ]
     },
     "metadata": {},
     "output_type": "display_data"
    }
   ],
   "source": [
    "fig, axes = plt.subplots(nrows=1, ncols=2, figsize=(16, 6))\n",
    "\n",
    "sns.countplot(x='subtype', data=accounts, ax=axes[0])\n",
    "axes[0].set_xlabel('Subtipo')\n",
    "axes[0].set_ylabel('Contagem')\n",
    "axes[0].set_title('Contagem por Subtipo')\n",
    "\n",
    "pivot = accounts.groupby(['month', 'subtype']).size().unstack(fill_value=0)\n",
    "pivot.plot(kind='line', marker='o', ax=axes[1])\n",
    "axes[1].set_xlabel('Mês')\n",
    "axes[1].set_ylabel('Contagem')\n",
    "axes[1].set_title('Contagem por Mês e Subtipo')"
   ]
  },
  {
   "cell_type": "code",
   "execution_count": null,
   "metadata": {},
   "outputs": [],
   "source": []
  }
 ],
 "metadata": {
  "kernelspec": {
   "display_name": "Python 3",
   "language": "python",
   "name": "python3"
  },
  "language_info": {
   "codemirror_mode": {
    "name": "ipython",
    "version": 3
   },
   "file_extension": ".py",
   "mimetype": "text/x-python",
   "name": "python",
   "nbconvert_exporter": "python",
   "pygments_lexer": "ipython3",
   "version": "3.11.4"
  }
 },
 "nbformat": 4,
 "nbformat_minor": 2
}
